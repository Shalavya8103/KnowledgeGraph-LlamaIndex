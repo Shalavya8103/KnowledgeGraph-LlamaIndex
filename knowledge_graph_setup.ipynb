{
 "cells": [
  {
   "cell_type": "code",
   "execution_count": 1,
   "metadata": {},
   "outputs": [],
   "source": [
    "from llama_index.core import (\n",
    "PropertyGraphIndex,\n",
    "SimpleDirectoryReader,\n",
    "StorageContext,\n",
    "Settings,\n",
    ")\n",
    "from llama_index.llms.llama_cpp import LlamaCPP\n",
    "from llama_index.embeddings.huggingface import HuggingFaceEmbedding\n",
    "from llama_index.graph_stores.neo4j import Neo4jPropertyGraphStore\n"
   ]
  },
  {
   "cell_type": "code",
   "execution_count": 2,
   "metadata": {},
   "outputs": [
    {
     "name": "stderr",
     "output_type": "stream",
     "text": [
      "llama_init_from_model: n_ctx_per_seq (4096) < n_ctx_train (32768) -- the full capacity of the model will not be utilized\n"
     ]
    }
   ],
   "source": [
    "llm = LlamaCPP(\n",
    "model_path='models/mistral-7b-instruct-v0.2.Q4_K_M.gguf',\n",
    "temperature=0.1,\n",
    "max_new_tokens=256,\n",
    "context_window=4096,\n",
    "model_kwargs={\"n_gpu_layers\": 1},\n",
    "verbose=False\n",
    ")\n",
    "embed_model = HuggingFaceEmbedding()\n",
    "Settings.llm = llm\n",
    "Settings.embed_model = embed_model\n",
    "Settings.chunk_size = 512"
   ]
  },
  {
   "cell_type": "code",
   "execution_count": 3,
   "metadata": {},
   "outputs": [],
   "source": [
    "url = \"neo4j://localhost:7687\"\n",
    "username = \"\"\n",
    "password = \"\"\n",
    "database = \"\"\n",
    "graph_store = Neo4jPropertyGraphStore(\n",
    "username=username,\n",
    "password=password,\n",
    "url=url,\n",
    "database=database,\n",
    ")"
   ]
  },
  {
   "cell_type": "code",
   "execution_count": null,
   "metadata": {},
   "outputs": [],
   "source": [
    "import nest_asyncio\n",
    "import asyncio\n",
    "\n",
    "# Apply nest_asyncio to allow nested async loops\n",
    "nest_asyncio.apply()\n",
    "\n",
    "# Your async function to create the graph index\n",
    "async def create_graph_index():\n",
    "    gstorage_context = StorageContext.from_defaults(graph_store=graph_store)\n",
    "\n",
    "    documents = SimpleDirectoryReader(\"pdf\").load_data()\n",
    "\n",
    "    kg_index = await PropertyGraphIndex.from_documents(\n",
    "        documents,\n",
    "        storage_context=gstorage_context,\n",
    "        max_triplets_per_chunk=10,\n",
    "        include_embeddings=True,\n",
    "        property_graph_store=graph_store,\n",
    "    )\n",
    "\n",
    "    return kg_index\n",
    "\n",
    "# Handle event loop properly\n",
    "loop = asyncio.get_event_loop()\n",
    "kg_index = loop.run_until_complete(create_graph_index())\n"
   ]
  },
  {
   "cell_type": "code",
   "execution_count": null,
   "metadata": {},
   "outputs": [],
   "source": [
    "#read the graph \n",
    "#kg_index = PropertyGraphIndex.from_existing(property_graph_store=graph_store)\n"
   ]
  }
 ],
 "metadata": {
  "kernelspec": {
   "display_name": ".venv",
   "language": "python",
   "name": "python3"
  },
  "language_info": {
   "codemirror_mode": {
    "name": "ipython",
    "version": 3
   },
   "file_extension": ".py",
   "mimetype": "text/x-python",
   "name": "python",
   "nbconvert_exporter": "python",
   "pygments_lexer": "ipython3",
   "version": "3.12.3"
  }
 },
 "nbformat": 4,
 "nbformat_minor": 2
}
